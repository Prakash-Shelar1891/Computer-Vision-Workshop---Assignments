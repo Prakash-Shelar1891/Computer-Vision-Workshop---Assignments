{
 "cells": [
  {
   "cell_type": "code",
   "execution_count": 1,
   "metadata": {},
   "outputs": [],
   "source": [
    "import cv2"
   ]
  },
  {
   "cell_type": "code",
   "execution_count": 17,
   "metadata": {},
   "outputs": [],
   "source": [
    "video = cv2.VideoCapture(0)\n",
    "\n",
    "while True:\n",
    "    # Reading the Frame from video\n",
    "    ret, frame = video.read() \n",
    "    \n",
    "    # Converting it to GrayScale\n",
    "    gray = cv2.cvtColor(frame, cv2.COLOR_BGR2GRAY)\n",
    "    \n",
    "    #  Blurring\n",
    "    gaussian = cv2.GaussianBlur(frame, (5,5), 0)\n",
    "    \n",
    "    #   Finding Edges\n",
    "    edge = cv2.Canny(gaussian, 50, 100)\n",
    "    \n",
    "    # Thresholding\n",
    "    ret, thresh = cv2.threshold(edge, 170, 255, cv2.THRESH_BINARY_INV)\n",
    "    cv2.imshow('Video',thresh)\n",
    "    \n",
    "    if cv2.waitKey(33) == 27:\n",
    "        break;\n",
    "video.release()\n",
    "cv2.destroyAllWindows()"
   ]
  },
  {
   "cell_type": "code",
   "execution_count": null,
   "metadata": {},
   "outputs": [],
   "source": []
  }
 ],
 "metadata": {
  "kernelspec": {
   "display_name": "Python 3",
   "language": "python",
   "name": "python3"
  },
  "language_info": {
   "codemirror_mode": {
    "name": "ipython",
    "version": 3
   },
   "file_extension": ".py",
   "mimetype": "text/x-python",
   "name": "python",
   "nbconvert_exporter": "python",
   "pygments_lexer": "ipython3",
   "version": "3.7.4"
  }
 },
 "nbformat": 4,
 "nbformat_minor": 2
}
